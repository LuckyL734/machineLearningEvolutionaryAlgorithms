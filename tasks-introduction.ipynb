{
 "cells": [
  {
   "cell_type": "markdown",
   "metadata": {},
   "source": [
    "# Machine Learning - Evolutionary Algorithms\n",
    "# Introduction"
   ]
  },
  {
   "cell_type": "markdown",
   "metadata": {},
   "source": [
    "## 1. Properties of Evolution"
   ]
  },
  {
   "cell_type": "markdown",
   "metadata": {},
   "source": [
    "**Consider an evolutionary process aiming to maximize a fitness function $f(x)$. Offspring solutions $x'$ inherit properties of parent solutions $x$, and in addition they are subject to random variations. The new parent generation is formed by selecting the offspring with highest fitness.**"
   ]
  },
  {
   "cell_type": "markdown",
   "metadata": {},
   "source": [
    "* **a) What will go systematically wrong if we drop *inheritance*, i.e., offspring don't inherit properties of their parents?**"
   ]
  },
  {
   "cell_type": "markdown",
   "metadata": {},
   "source": [
    "* **b) What will go systematically wrong if we drop *variation*, i.e., offspring are generated from their parents without (random) variations?**"
   ]
  },
  {
   "cell_type": "markdown",
   "metadata": {},
   "source": [
    "* **c) What will go systematically wrong if we drop *selection*, i.e., the process of forming the next parent generation from the offspring does not depend on fitness?**"
   ]
  },
  {
   "cell_type": "markdown",
   "metadata": {},
   "source": [
    "## 2. Black Box Optimization"
   ]
  },
  {
   "cell_type": "markdown",
   "metadata": {},
   "source": [
    "**Consider a function $f(x)$, given as a Python function:**"
   ]
  },
  {
   "cell_type": "code",
   "execution_count": 2,
   "metadata": {},
   "outputs": [],
   "source": [
    "def f(x):\n",
    "    pass   # ... see below ...\n"
   ]
  },
  {
   "cell_type": "markdown",
   "metadata": {},
   "source": [
    "**Assume that this function is implemented in a third party library. Consider three different levels of access to the function:**\n",
    "1. **The source code of the implementation is available.**\n",
    "2. **The source code is not available. For given $x$, the function returns the function value $f(x)$ and the gradient $\\nabla f(x)$.**\n",
    "3. **The source code is not avaialble. For given $x$, the function returns the function value $f(x)$.**"
   ]
  },
  {
   "cell_type": "markdown",
   "metadata": {},
   "source": [
    "* **a) In which of the above cases is $f$ given as a \"black box\"?**"
   ]
  },
  {
   "cell_type": "markdown",
   "metadata": {},
   "source": [
    "* **b) Assume that the source code is available (case 1), and the computation turns out to be quite simple:**"
   ]
  },
  {
   "cell_type": "code",
   "execution_count": 3,
   "metadata": {
    "collapsed": true
   },
   "outputs": [],
   "source": [
    "def f(x):\n",
    "    return (x*x - 10*x + 26) ** 5"
   ]
  },
  {
   "cell_type": "markdown",
   "metadata": {},
   "source": [
    "**What is the best strategy for finding the minimum? Determine the minimum in this example.**"
   ]
  }
 ],
 "metadata": {
  "kernelspec": {
   "display_name": "Python 3",
   "language": "python",
   "name": "python3"
  },
  "language_info": {
   "codemirror_mode": {
    "name": "ipython",
    "version": 3
   },
   "file_extension": ".py",
   "mimetype": "text/x-python",
   "name": "python",
   "nbconvert_exporter": "python",
   "pygments_lexer": "ipython3",
   "version": "3.7.3"
  }
 },
 "nbformat": 4,
 "nbformat_minor": 1
}
