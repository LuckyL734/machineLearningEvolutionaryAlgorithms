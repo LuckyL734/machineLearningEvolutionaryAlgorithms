{
 "cells": [
  {
   "cell_type": "markdown",
   "metadata": {},
   "source": [
    "# Machine Learning - Evolutionary Algorithms\n",
    "# Introduction"
   ]
  },
  {
   "cell_type": "markdown",
   "metadata": {},
   "source": [
    "## 1. Properties of Evolution"
   ]
  },
  {
   "cell_type": "markdown",
   "metadata": {},
   "source": [
    "**Consider an evolutionary process aiming to maximize a fitness function $f(x)$. Offspring solutions $x'$ inherit properties of parent solutions $x$, and in addition they are subject to random variations. The new parent generation is formed by selecting the offspring with highest fitness.**"
   ]
  },
  {
   "cell_type": "markdown",
   "metadata": {},
   "source": [
    "* **a) What will go systematically wrong if we drop *inheritance*, i.e., offspring don't inherit properties of their parents?**"
   ]
  },
  {
   "cell_type": "markdown",
   "metadata": {},
   "source": [
    "If offspring don't inherit properties from their parents then they have to be generated \"out of nowhere\". This means that the offspring cannot profit from already quite good optimized properties of their parents, and instead the evolutionary process starts over in each generation. It would need to re-invent good properties over and over in each generation, which is inefficient."
   ]
  },
  {
   "cell_type": "markdown",
   "metadata": {},
   "source": [
    "* **b) What will go systematically wrong if we drop *variation*, i.e., offspring are generated from their parents without (random) variations?**"
   ]
  },
  {
   "cell_type": "markdown",
   "metadata": {},
   "source": [
    "If there are no variations in the offspring generation process, then offspring cannot try out properties that were not present yet in the parent population. Offspring could never \"go beyond\" their parents. Evolution would not be able to discover new solutions, i.e., properties can be maintained through inheritance, but they cannot be improved. So the evolutionary process stalls."
   ]
  },
  {
   "cell_type": "markdown",
   "metadata": {},
   "source": [
    "* **c) What will go systematically wrong if we drop *selection*, i.e., the process of forming the next parent generation from the offspring does not depend on fitness?**"
   ]
  },
  {
   "cell_type": "markdown",
   "metadata": {},
   "source": [
    "Due to inheritance and variation, evolution keeps inventing new properties. However, there is no reason why it should evolve towards better solutions, since there is no mechanism for driving the population towards higher fitness values. The population will evolve, but the fitness will stagnate (up to random variations)."
   ]
  },
  {
   "cell_type": "markdown",
   "metadata": {},
   "source": [
    "## 2. Black Box Optimization"
   ]
  },
  {
   "cell_type": "markdown",
   "metadata": {},
   "source": [
    "**Consider a function $f(x)$, given as a Python function:**"
   ]
  },
  {
   "cell_type": "code",
   "execution_count": 3,
   "metadata": {},
   "outputs": [],
   "source": [
    "def f(x):\n",
    "    pass   # ... see below ..."
   ]
  },
  {
   "cell_type": "markdown",
   "metadata": {},
   "source": [
    "**Assume that this function is implemented in a third party library. Consider three different levels of access to the function:**\n",
    "1. **The source code of the implementation is available.**\n",
    "2. **The source code is not available. For given $x$, the function returns the function value $f(x)$ and the gradient $\\nabla f(x)$.**\n",
    "3. **The source code is not avaialble. For given $x$, the function returns the function value $f(x)$.**"
   ]
  },
  {
   "cell_type": "markdown",
   "metadata": {},
   "source": [
    "* **a) In which of the above cases is $f$ given as a \"black box\"?**"
   ]
  },
  {
   "cell_type": "markdown",
   "metadata": {},
   "source": [
    "In case 1 we know everything about the function, so this is surely not a black box. In case 3 the function is a black box, because we do not know its internal structure and we can only evaluate it. Case 2 is in between. In the classic terminology it is not within the realm of \"black-box-optimization\", although the function is aguably hidden in a black-box, since we cannot see its structure. However, this black box reveals more information, namely the function value and the gradient."
   ]
  },
  {
   "cell_type": "markdown",
   "metadata": {},
   "source": [
    "* **b) Assume that the source code is available (case 1), and the computation turns out to be quite simple:**"
   ]
  },
  {
   "cell_type": "code",
   "execution_count": 12,
   "metadata": {
    "collapsed": true
   },
   "outputs": [],
   "source": [
    "def f(x):\n",
    "    return (x*x - 10*x + 26) ** 5"
   ]
  },
  {
   "cell_type": "markdown",
   "metadata": {},
   "source": [
    "**What is the best strategy for finding the minimum? Determine the minimum in this example.**"
   ]
  },
  {
   "cell_type": "markdown",
   "metadata": {},
   "source": [
    "The Python function simply computes the (closed-form) mathematical function $f(x) = (x^2 - 10x + 26)^5$. There is no need for applying an iterative optimization process like evolution. We can solve the problem directly by setting its derivative to zero:\n",
    "$$ f'(x) = 5 \\cdot (x^2 - 10x + 26)^4 \\cdot (2x - 10) = 0 $$\n",
    "which yields $x=5$ (note that $x^2 - 10x + 26$ is never zero). We can see (by plotting the function, or by checking that the second derivative is positive) that $x=5$ is indeed a local minimum. Since it is the only local minimum, it is also the global minimum. The optimal function value is:"
   ]
  },
  {
   "cell_type": "code",
   "execution_count": 15,
   "metadata": {},
   "outputs": [
    {
     "name": "stdout",
     "output_type": "stream",
     "text": [
      "f(5) = 1\n"
     ]
    }
   ],
   "source": [
    "print(\"f(5) = \" + str(f(5)))"
   ]
  }
 ],
 "metadata": {
  "kernelspec": {
   "display_name": "Python 3",
   "language": "python",
   "name": "python3"
  },
  "language_info": {
   "codemirror_mode": {
    "name": "ipython",
    "version": 3
   },
   "file_extension": ".py",
   "mimetype": "text/x-python",
   "name": "python",
   "nbconvert_exporter": "python",
   "pygments_lexer": "ipython3",
   "version": "3.7.3"
  }
 },
 "nbformat": 4,
 "nbformat_minor": 1
}
